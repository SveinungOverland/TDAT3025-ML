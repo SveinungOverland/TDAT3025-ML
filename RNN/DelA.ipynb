{
 "cells": [
  {
   "cell_type": "code",
   "execution_count": 57,
   "metadata": {},
   "outputs": [
    {
     "data": {
      "text/plain": [
       "'1.14.0'"
      ]
     },
     "execution_count": 57,
     "metadata": {},
     "output_type": "execute_result"
    }
   ],
   "source": [
    "import numpy as np\n",
    "import tensorflow as tf\n",
    "from tensorflow import keras\n",
    "from tensorflow.keras import layers\n",
    "import matplotlib.pyplot as plt\n",
    "import pandas as pd\n",
    "tf.__version__"
   ]
  },
  {
   "cell_type": "code",
   "execution_count": 58,
   "metadata": {},
   "outputs": [],
   "source": [
    "batch_size = 1\n",
    "\n",
    "def index_to_char(i):\n",
    "    return chr(i + 97 if (i != 26) else 32)\n",
    "def char_to_index(ch):\n",
    "    return ord(ch) - 97 if (ch != ' ') else 26\n",
    "\n",
    "text = \"hello world\"\n",
    "encoding_size = keras.utils.to_categorical(list(set(map(char_to_index, list(text))))).shape[1]"
   ]
  },
  {
   "cell_type": "code",
   "execution_count": 59,
   "metadata": {},
   "outputs": [
    {
     "name": "stdout",
     "output_type": "stream",
     "text": [
      "(1, 1, 14, 27)\n"
     ]
    },
    {
     "data": {
      "text/plain": [
       "[[[array([0., 0., 0., 0., 0., 0., 0., 0., 0., 0., 0., 0., 0., 0., 0., 0., 0.,\n",
       "          0., 0., 0., 0., 0., 0., 0., 0., 0., 1.], dtype=float32),\n",
       "   array([0., 0., 0., 0., 0., 0., 0., 1., 0., 0., 0., 0., 0., 0., 0., 0., 0.,\n",
       "          0., 0., 0., 0., 0., 0., 0., 0., 0., 0.], dtype=float32),\n",
       "   array([0., 0., 0., 0., 1., 0., 0., 0., 0., 0., 0., 0., 0., 0., 0., 0., 0.,\n",
       "          0., 0., 0., 0., 0., 0., 0., 0., 0., 0.], dtype=float32),\n",
       "   array([0., 0., 0., 0., 0., 0., 0., 0., 0., 0., 0., 1., 0., 0., 0., 0., 0.,\n",
       "          0., 0., 0., 0., 0., 0., 0., 0., 0., 0.], dtype=float32),\n",
       "   array([0., 0., 0., 0., 0., 0., 0., 0., 0., 0., 0., 1., 0., 0., 0., 0., 0.,\n",
       "          0., 0., 0., 0., 0., 0., 0., 0., 0., 0.], dtype=float32),\n",
       "   array([0., 0., 0., 0., 0., 0., 0., 0., 0., 0., 0., 0., 0., 0., 1., 0., 0.,\n",
       "          0., 0., 0., 0., 0., 0., 0., 0., 0., 0.], dtype=float32),\n",
       "   array([0., 0., 0., 0., 0., 0., 0., 0., 0., 0., 0., 0., 0., 0., 0., 0., 0.,\n",
       "          0., 0., 0., 0., 0., 0., 0., 0., 0., 1.], dtype=float32),\n",
       "   array([0., 0., 0., 0., 0., 0., 0., 0., 0., 0., 0., 0., 0., 0., 0., 0., 0.,\n",
       "          0., 0., 0., 0., 0., 1., 0., 0., 0., 0.], dtype=float32),\n",
       "   array([0., 0., 0., 0., 0., 0., 0., 0., 0., 0., 0., 0., 0., 0., 1., 0., 0.,\n",
       "          0., 0., 0., 0., 0., 0., 0., 0., 0., 0.], dtype=float32),\n",
       "   array([0., 0., 0., 0., 0., 0., 0., 0., 0., 0., 0., 0., 0., 0., 0., 0., 0.,\n",
       "          1., 0., 0., 0., 0., 0., 0., 0., 0., 0.], dtype=float32),\n",
       "   array([0., 0., 0., 0., 0., 0., 0., 0., 0., 0., 0., 1., 0., 0., 0., 0., 0.,\n",
       "          0., 0., 0., 0., 0., 0., 0., 0., 0., 0.], dtype=float32),\n",
       "   array([0., 0., 0., 1., 0., 0., 0., 0., 0., 0., 0., 0., 0., 0., 0., 0., 0.,\n",
       "          0., 0., 0., 0., 0., 0., 0., 0., 0., 0.], dtype=float32),\n",
       "   array([0., 0., 0., 0., 0., 0., 0., 0., 0., 0., 0., 0., 0., 0., 0., 0., 0.,\n",
       "          0., 0., 0., 0., 0., 0., 0., 0., 0., 1.], dtype=float32),\n",
       "   array([0., 0., 0., 0., 0., 0., 0., 1., 0., 0., 0., 0., 0., 0., 0., 0., 0.,\n",
       "          0., 0., 0., 0., 0., 0., 0., 0., 0., 0.], dtype=float32)]]]"
      ]
     },
     "execution_count": 59,
     "metadata": {},
     "output_type": "execute_result"
    }
   ],
   "source": [
    "x_train = [[list(keras.utils.to_categorical(list(map(char_to_index, list(\" hello world h\")))))]] # ' hello'\n",
    "y_train = [[list(keras.utils.to_categorical(list(map(char_to_index, list(\"hello world he\")))))]] # 'hello '\n",
    "print(np.array(x_train).shape)\n",
    "x_train"
   ]
  },
  {
   "cell_type": "code",
   "execution_count": null,
   "metadata": {
    "scrolled": false
   },
   "outputs": [
    {
     "name": "stdout",
     "output_type": "stream",
     "text": [
      "epoch 9\n",
      "loss 1.6264684200286865\n",
      " helllooo hellllllllllllllllllllllllllllllllllllllll\n",
      "epoch 19\n",
      "loss 1.3531025648117065\n",
      " hello werldrldrdddddddddddddddddddddddddddddddddddd\n",
      "epoch 29\n",
      "loss 0.04094976931810379\n",
      " hello world helld helld helld helld helld helld hel\n",
      "epoch 39\n",
      "loss 0.008073308505117893\n",
      " hello world helld helld helld helld helld helld hel\n",
      "epoch 49\n",
      "loss 0.0031421410385519266\n",
      " hello world helld helld helld helld helld helld hel\n",
      "epoch 59\n",
      "loss 0.0013878761092200875\n",
      " hello world helld helld helld helld helld helld hel\n",
      "epoch 69\n",
      "loss 0.0006446080515161157\n",
      " hello world helld helld helld helld helld helld hel\n",
      "epoch 79\n",
      "loss 0.00031160045182332397\n",
      " hello world helld helld helld helld helld helld hel\n",
      "epoch 89\n",
      "loss 0.00016064560622908175\n",
      " hello world helld helld helld helld helld helld hel\n",
      "epoch 99\n",
      "loss 8.033090125536546e-05\n",
      " hello world helld helld helld helld helld helld hel\n",
      "epoch 109\n",
      "loss 4.157139119342901e-05\n",
      " hello world helld helld helld helld helld helld hel\n",
      "epoch 119\n",
      "loss 2.3356942620011978e-05\n",
      " hello world helld helld helld helld helld helld hel\n",
      "epoch 129\n",
      "loss 1.3696439964405727e-05\n",
      " hello world helld helld helld helld helld helld hel\n",
      "epoch 139\n",
      "loss 8.089250513876323e-06\n",
      " hello world helld helld helld helld helld helld hel\n",
      "epoch 149\n",
      "loss 4.798190730070928e-06\n",
      " hello world helld helld helld helld helld helld hel\n",
      "epoch 159\n",
      "loss 2.9248910777823767e-06\n",
      " hello world helld helld helld helld helld helld hel\n",
      "epoch 169\n",
      "loss 1.7966565337701468e-06\n",
      " hello world helld helld helld helld helld helld hel\n",
      "epoch 179\n",
      "loss 1.115459099310101e-06\n",
      " hello world helld helld helld helld helld helld hel\n",
      "epoch 189\n",
      "loss 6.897112143633422e-07\n",
      " hello world helld helld helld helld helld helld hel\n",
      "epoch 199\n",
      "loss 4.512924078881042e-07\n",
      " hello world helld helld helld helld helld helld hel\n",
      "epoch 209\n",
      "loss 2.98023280720372e-07\n",
      " hello world helld helld helld helld helld helld hel\n",
      "epoch 219\n",
      "loss 2.0861628513557662e-07\n",
      " hello world helld helld helld helld helld helld hel\n",
      "epoch 229\n",
      "loss 1.4049666674509353e-07\n"
     ]
    }
   ],
   "source": [
    "model = keras.Sequential([\n",
    "    layers.LSTM(128, input_shape=(None, encoding_size), return_sequences=True),\n",
    "    layers.Dense(encoding_size, activation='softmax')\n",
    "])\n",
    "\n",
    "model.compile(\n",
    "    optimizer=keras.optimizers.RMSprop(learning_rate=0.02),\n",
    "    loss=keras.losses.categorical_crossentropy\n",
    ")\n",
    "\n",
    "def on_epoch_end(epoch, data):\n",
    "    if epoch % 10 == 9:\n",
    "        print(\"epoch\", epoch)\n",
    "        print(\"loss\", data['loss'])\n",
    "        \n",
    "        # Generate text from the initial text ' h'\n",
    "        text = ' h'\n",
    "        for i in range(50):\n",
    "            x = [[list(keras.utils.to_categorical(list(map(char_to_index, list(text)))))]]\n",
    "            y = model.predict(x)[0][-1]\n",
    "            text += index_to_char(y.argmax())\n",
    "        print(text)\n",
    "        \n",
    "        \n",
    "model.fit(\n",
    "    x_train, \n",
    "    y_train, \n",
    "    batch_size=batch_size, \n",
    "    epochs=500, \n",
    "    verbose=False,\n",
    "    callbacks=[keras.callbacks.LambdaCallback(on_epoch_end=on_epoch_end)]\n",
    ")"
   ]
  }
 ],
 "metadata": {
  "kernelspec": {
   "display_name": "Python 3",
   "language": "python",
   "name": "python3"
  },
  "language_info": {
   "codemirror_mode": {
    "name": "ipython",
    "version": 3
   },
   "file_extension": ".py",
   "mimetype": "text/x-python",
   "name": "python",
   "nbconvert_exporter": "python",
   "pygments_lexer": "ipython3",
   "version": "3.7.4"
  }
 },
 "nbformat": 4,
 "nbformat_minor": 2
}
